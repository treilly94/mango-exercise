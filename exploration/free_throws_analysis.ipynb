{
 "cells": [
  {
   "cell_type": "code",
   "execution_count": 1,
   "metadata": {},
   "outputs": [],
   "source": [
    "# Data tools\n",
    "import pandas as pd"
   ]
  },
  {
   "cell_type": "code",
   "execution_count": 2,
   "metadata": {},
   "outputs": [],
   "source": [
    "# Plotting tools\n",
    "import plotly.graph_objs as go\n",
    "import plotly.offline as pyoff\n",
    "import cufflinks as cf"
   ]
  },
  {
   "cell_type": "code",
   "execution_count": 3,
   "metadata": {},
   "outputs": [
    {
     "data": {
      "text/html": [
       "<script>requirejs.config({paths: { 'plotly': ['https://cdn.plot.ly/plotly-latest.min']},});if(!window.Plotly) {{require(['plotly'],function(plotly) {window.Plotly=plotly;});}}</script>"
      ]
     },
     "metadata": {},
     "output_type": "execute_result"
    }
   ],
   "source": [
    "pyoff.init_notebook_mode(connected=True)"
   ]
  },
  {
   "cell_type": "markdown",
   "metadata": {},
   "source": [
    "# Read Data"
   ]
  },
  {
   "cell_type": "code",
   "execution_count": 4,
   "metadata": {},
   "outputs": [
    {
     "data": {
      "text/html": [
       "<div>\n",
       "<style scoped>\n",
       "    .dataframe tbody tr th:only-of-type {\n",
       "        vertical-align: middle;\n",
       "    }\n",
       "\n",
       "    .dataframe tbody tr th {\n",
       "        vertical-align: top;\n",
       "    }\n",
       "\n",
       "    .dataframe thead th {\n",
       "        text-align: right;\n",
       "    }\n",
       "</style>\n",
       "<table border=\"1\" class=\"dataframe\">\n",
       "  <thead>\n",
       "    <tr style=\"text-align: right;\">\n",
       "      <th></th>\n",
       "      <th>end_result</th>\n",
       "      <th>game</th>\n",
       "      <th>game_id</th>\n",
       "      <th>period</th>\n",
       "      <th>play</th>\n",
       "      <th>player</th>\n",
       "      <th>playoffs</th>\n",
       "      <th>score</th>\n",
       "      <th>season</th>\n",
       "      <th>shot_made</th>\n",
       "      <th>time</th>\n",
       "    </tr>\n",
       "  </thead>\n",
       "  <tbody>\n",
       "    <tr>\n",
       "      <th>0</th>\n",
       "      <td>106 - 114</td>\n",
       "      <td>PHX - LAL</td>\n",
       "      <td>261031013.0</td>\n",
       "      <td>1.0</td>\n",
       "      <td>Andrew Bynum makes free throw 1 of 2</td>\n",
       "      <td>Andrew Bynum</td>\n",
       "      <td>regular</td>\n",
       "      <td>0 - 1</td>\n",
       "      <td>2006 - 2007</td>\n",
       "      <td>1</td>\n",
       "      <td>11:45</td>\n",
       "    </tr>\n",
       "    <tr>\n",
       "      <th>1</th>\n",
       "      <td>106 - 114</td>\n",
       "      <td>PHX - LAL</td>\n",
       "      <td>261031013.0</td>\n",
       "      <td>1.0</td>\n",
       "      <td>Andrew Bynum makes free throw 2 of 2</td>\n",
       "      <td>Andrew Bynum</td>\n",
       "      <td>regular</td>\n",
       "      <td>0 - 2</td>\n",
       "      <td>2006 - 2007</td>\n",
       "      <td>1</td>\n",
       "      <td>11:45</td>\n",
       "    </tr>\n",
       "    <tr>\n",
       "      <th>2</th>\n",
       "      <td>106 - 114</td>\n",
       "      <td>PHX - LAL</td>\n",
       "      <td>261031013.0</td>\n",
       "      <td>1.0</td>\n",
       "      <td>Andrew Bynum makes free throw 1 of 2</td>\n",
       "      <td>Andrew Bynum</td>\n",
       "      <td>regular</td>\n",
       "      <td>18 - 12</td>\n",
       "      <td>2006 - 2007</td>\n",
       "      <td>1</td>\n",
       "      <td>7:26</td>\n",
       "    </tr>\n",
       "    <tr>\n",
       "      <th>3</th>\n",
       "      <td>106 - 114</td>\n",
       "      <td>PHX - LAL</td>\n",
       "      <td>261031013.0</td>\n",
       "      <td>1.0</td>\n",
       "      <td>Andrew Bynum misses free throw 2 of 2</td>\n",
       "      <td>Andrew Bynum</td>\n",
       "      <td>regular</td>\n",
       "      <td>18 - 12</td>\n",
       "      <td>2006 - 2007</td>\n",
       "      <td>0</td>\n",
       "      <td>7:26</td>\n",
       "    </tr>\n",
       "    <tr>\n",
       "      <th>4</th>\n",
       "      <td>106 - 114</td>\n",
       "      <td>PHX - LAL</td>\n",
       "      <td>261031013.0</td>\n",
       "      <td>1.0</td>\n",
       "      <td>Shawn Marion makes free throw 1 of 1</td>\n",
       "      <td>Shawn Marion</td>\n",
       "      <td>regular</td>\n",
       "      <td>21 - 12</td>\n",
       "      <td>2006 - 2007</td>\n",
       "      <td>1</td>\n",
       "      <td>7:18</td>\n",
       "    </tr>\n",
       "    <tr>\n",
       "      <th>5</th>\n",
       "      <td>106 - 114</td>\n",
       "      <td>PHX - LAL</td>\n",
       "      <td>261031013.0</td>\n",
       "      <td>1.0</td>\n",
       "      <td>Amare Stoudemire makes free throw 1 of 2</td>\n",
       "      <td>Amare Stoudemire</td>\n",
       "      <td>regular</td>\n",
       "      <td>33 - 20</td>\n",
       "      <td>2006 - 2007</td>\n",
       "      <td>1</td>\n",
       "      <td>3:15</td>\n",
       "    </tr>\n",
       "    <tr>\n",
       "      <th>6</th>\n",
       "      <td>106 - 114</td>\n",
       "      <td>PHX - LAL</td>\n",
       "      <td>261031013.0</td>\n",
       "      <td>1.0</td>\n",
       "      <td>Amare Stoudemire makes free throw 2 of 2</td>\n",
       "      <td>Amare Stoudemire</td>\n",
       "      <td>regular</td>\n",
       "      <td>34 - 20</td>\n",
       "      <td>2006 - 2007</td>\n",
       "      <td>1</td>\n",
       "      <td>3:15</td>\n",
       "    </tr>\n",
       "    <tr>\n",
       "      <th>7</th>\n",
       "      <td>106 - 114</td>\n",
       "      <td>PHX - LAL</td>\n",
       "      <td>261031013.0</td>\n",
       "      <td>2.0</td>\n",
       "      <td>Leandro Barbosa misses free throw 1 of 2</td>\n",
       "      <td>Leandro Barbosa</td>\n",
       "      <td>regular</td>\n",
       "      <td>43 - 29</td>\n",
       "      <td>2006 - 2007</td>\n",
       "      <td>0</td>\n",
       "      <td>10:52</td>\n",
       "    </tr>\n",
       "    <tr>\n",
       "      <th>8</th>\n",
       "      <td>106 - 114</td>\n",
       "      <td>PHX - LAL</td>\n",
       "      <td>261031013.0</td>\n",
       "      <td>2.0</td>\n",
       "      <td>Leandro Barbosa makes free throw 2 of 2</td>\n",
       "      <td>Leandro Barbosa</td>\n",
       "      <td>regular</td>\n",
       "      <td>44 - 29</td>\n",
       "      <td>2006 - 2007</td>\n",
       "      <td>1</td>\n",
       "      <td>10:52</td>\n",
       "    </tr>\n",
       "    <tr>\n",
       "      <th>9</th>\n",
       "      <td>106 - 114</td>\n",
       "      <td>PHX - LAL</td>\n",
       "      <td>261031013.0</td>\n",
       "      <td>2.0</td>\n",
       "      <td>Lamar Odom makes free throw 1 of 2</td>\n",
       "      <td>Lamar Odom</td>\n",
       "      <td>regular</td>\n",
       "      <td>44 - 30</td>\n",
       "      <td>2006 - 2007</td>\n",
       "      <td>1</td>\n",
       "      <td>10:37</td>\n",
       "    </tr>\n",
       "  </tbody>\n",
       "</table>\n",
       "</div>"
      ],
      "text/plain": [
       "  end_result       game      game_id  period  \\\n",
       "0  106 - 114  PHX - LAL  261031013.0     1.0   \n",
       "1  106 - 114  PHX - LAL  261031013.0     1.0   \n",
       "2  106 - 114  PHX - LAL  261031013.0     1.0   \n",
       "3  106 - 114  PHX - LAL  261031013.0     1.0   \n",
       "4  106 - 114  PHX - LAL  261031013.0     1.0   \n",
       "5  106 - 114  PHX - LAL  261031013.0     1.0   \n",
       "6  106 - 114  PHX - LAL  261031013.0     1.0   \n",
       "7  106 - 114  PHX - LAL  261031013.0     2.0   \n",
       "8  106 - 114  PHX - LAL  261031013.0     2.0   \n",
       "9  106 - 114  PHX - LAL  261031013.0     2.0   \n",
       "\n",
       "                                       play            player playoffs  \\\n",
       "0      Andrew Bynum makes free throw 1 of 2      Andrew Bynum  regular   \n",
       "1      Andrew Bynum makes free throw 2 of 2      Andrew Bynum  regular   \n",
       "2      Andrew Bynum makes free throw 1 of 2      Andrew Bynum  regular   \n",
       "3     Andrew Bynum misses free throw 2 of 2      Andrew Bynum  regular   \n",
       "4      Shawn Marion makes free throw 1 of 1      Shawn Marion  regular   \n",
       "5  Amare Stoudemire makes free throw 1 of 2  Amare Stoudemire  regular   \n",
       "6  Amare Stoudemire makes free throw 2 of 2  Amare Stoudemire  regular   \n",
       "7  Leandro Barbosa misses free throw 1 of 2   Leandro Barbosa  regular   \n",
       "8   Leandro Barbosa makes free throw 2 of 2   Leandro Barbosa  regular   \n",
       "9        Lamar Odom makes free throw 1 of 2        Lamar Odom  regular   \n",
       "\n",
       "     score       season  shot_made   time  \n",
       "0    0 - 1  2006 - 2007          1  11:45  \n",
       "1    0 - 2  2006 - 2007          1  11:45  \n",
       "2  18 - 12  2006 - 2007          1   7:26  \n",
       "3  18 - 12  2006 - 2007          0   7:26  \n",
       "4  21 - 12  2006 - 2007          1   7:18  \n",
       "5  33 - 20  2006 - 2007          1   3:15  \n",
       "6  34 - 20  2006 - 2007          1   3:15  \n",
       "7  43 - 29  2006 - 2007          0  10:52  \n",
       "8  44 - 29  2006 - 2007          1  10:52  \n",
       "9  44 - 30  2006 - 2007          1  10:37  "
      ]
     },
     "execution_count": 4,
     "metadata": {},
     "output_type": "execute_result"
    }
   ],
   "source": [
    "df = pd.read_csv(\"../data/free_throws.csv\")\n",
    "df.head(10)"
   ]
  },
  {
   "cell_type": "markdown",
   "metadata": {},
   "source": [
    "## Describe potentially interesting columns"
   ]
  },
  {
   "cell_type": "code",
   "execution_count": 5,
   "metadata": {},
   "outputs": [
    {
     "data": {
      "text/plain": [
       "count           618019\n",
       "unique            1098\n",
       "top       LeBron James\n",
       "freq              8001\n",
       "Name: player, dtype: object"
      ]
     },
     "execution_count": 5,
     "metadata": {},
     "output_type": "execute_result"
    }
   ],
   "source": [
    "df.player.describe()"
   ]
  },
  {
   "cell_type": "code",
   "execution_count": 6,
   "metadata": {},
   "outputs": [
    {
     "data": {
      "text/plain": [
       "count     618019\n",
       "unique       534\n",
       "top         0:00\n",
       "freq        2666\n",
       "Name: time, dtype: object"
      ]
     },
     "execution_count": 6,
     "metadata": {},
     "output_type": "execute_result"
    }
   ],
   "source": [
    "df.time.describe()"
   ]
  },
  {
   "cell_type": "code",
   "execution_count": 7,
   "metadata": {},
   "outputs": [
    {
     "data": {
      "text/plain": [
       "count          618019\n",
       "unique             10\n",
       "top       2006 - 2007\n",
       "freq            67612\n",
       "Name: season, dtype: object"
      ]
     },
     "execution_count": 7,
     "metadata": {},
     "output_type": "execute_result"
    }
   ],
   "source": [
    "df.season.describe()"
   ]
  },
  {
   "cell_type": "markdown",
   "metadata": {},
   "source": [
    "# Analyse the number of shots made per season"
   ]
  },
  {
   "cell_type": "code",
   "execution_count": 8,
   "metadata": {},
   "outputs": [],
   "source": [
    "def bar_scatter(inDf, name):\n",
    "    # Create dataset\n",
    "    data = [go.Bar(x=inDf.index, y=inDf[\"sum\"].values, name=\"sum\"),\n",
    "            go.Scatter(x=inDf.index, y=inDf[\"mean\"].values, name=\"mean\", yaxis=\"y2\")]\n",
    "    # Create graph layout\n",
    "    layout = dict(\n",
    "        title=name,\n",
    "        xaxis=dict(\n",
    "            title=\"Season\"\n",
    "        ),\n",
    "        yaxis=dict(\n",
    "            title='Sum of shots',\n",
    "            rangemode=\"tozero\"\n",
    "        ),\n",
    "        yaxis2=dict(\n",
    "            title='Mean of shots made',\n",
    "            overlaying='y',\n",
    "            side='right',\n",
    "            range=[0,1]\n",
    "        )\n",
    "    )\n",
    "    # Combine the two into a figure and display it\n",
    "    return go.Figure(data=data, layout=layout)"
   ]
  },
  {
   "cell_type": "code",
   "execution_count": 9,
   "metadata": {},
   "outputs": [
    {
     "data": {
      "text/html": [
       "<div>\n",
       "<style scoped>\n",
       "    .dataframe tbody tr th:only-of-type {\n",
       "        vertical-align: middle;\n",
       "    }\n",
       "\n",
       "    .dataframe tbody tr th {\n",
       "        vertical-align: top;\n",
       "    }\n",
       "\n",
       "    .dataframe thead th {\n",
       "        text-align: right;\n",
       "    }\n",
       "</style>\n",
       "<table border=\"1\" class=\"dataframe\">\n",
       "  <thead>\n",
       "    <tr style=\"text-align: right;\">\n",
       "      <th></th>\n",
       "      <th>mean</th>\n",
       "      <th>sum</th>\n",
       "    </tr>\n",
       "    <tr>\n",
       "      <th>season</th>\n",
       "      <th></th>\n",
       "      <th></th>\n",
       "    </tr>\n",
       "  </thead>\n",
       "  <tbody>\n",
       "    <tr>\n",
       "      <th>2006 - 2007</th>\n",
       "      <td>0.751952</td>\n",
       "      <td>50841</td>\n",
       "    </tr>\n",
       "    <tr>\n",
       "      <th>2007 - 2008</th>\n",
       "      <td>0.755634</td>\n",
       "      <td>49494</td>\n",
       "    </tr>\n",
       "    <tr>\n",
       "      <th>2008 - 2009</th>\n",
       "      <td>0.769949</td>\n",
       "      <td>50320</td>\n",
       "    </tr>\n",
       "    <tr>\n",
       "      <th>2009 - 2010</th>\n",
       "      <td>0.758487</td>\n",
       "      <td>49153</td>\n",
       "    </tr>\n",
       "    <tr>\n",
       "      <th>2010 - 2011</th>\n",
       "      <td>0.764192</td>\n",
       "      <td>49013</td>\n",
       "    </tr>\n",
       "    <tr>\n",
       "      <th>2011 - 2012</th>\n",
       "      <td>0.752512</td>\n",
       "      <td>36466</td>\n",
       "    </tr>\n",
       "    <tr>\n",
       "      <th>2012 - 2013</th>\n",
       "      <td>0.751696</td>\n",
       "      <td>43881</td>\n",
       "    </tr>\n",
       "    <tr>\n",
       "      <th>2013 - 2014</th>\n",
       "      <td>0.756574</td>\n",
       "      <td>47127</td>\n",
       "    </tr>\n",
       "    <tr>\n",
       "      <th>2014 - 2015</th>\n",
       "      <td>0.748449</td>\n",
       "      <td>45005</td>\n",
       "    </tr>\n",
       "    <tr>\n",
       "      <th>2015 - 2016</th>\n",
       "      <td>0.756075</td>\n",
       "      <td>46389</td>\n",
       "    </tr>\n",
       "  </tbody>\n",
       "</table>\n",
       "</div>"
      ],
      "text/plain": [
       "                 mean    sum\n",
       "season                      \n",
       "2006 - 2007  0.751952  50841\n",
       "2007 - 2008  0.755634  49494\n",
       "2008 - 2009  0.769949  50320\n",
       "2009 - 2010  0.758487  49153\n",
       "2010 - 2011  0.764192  49013\n",
       "2011 - 2012  0.752512  36466\n",
       "2012 - 2013  0.751696  43881\n",
       "2013 - 2014  0.756574  47127\n",
       "2014 - 2015  0.748449  45005\n",
       "2015 - 2016  0.756075  46389"
      ]
     },
     "execution_count": 9,
     "metadata": {},
     "output_type": "execute_result"
    }
   ],
   "source": [
    "season_shots = df.groupby([\"season\"])[\"shot_made\"].agg([\"mean\", \"sum\"])\n",
    "season_shots"
   ]
  },
  {
   "cell_type": "code",
   "execution_count": 10,
   "metadata": {},
   "outputs": [
    {
     "data": {
      "text/html": [
       "<div id=\"eca4f411-906e-4c2b-a32c-df1b95529eb5\" style=\"height: 525px; width: 100%;\" class=\"plotly-graph-div\"></div><script type=\"text/javascript\">require([\"plotly\"], function(Plotly) { window.PLOTLYENV=window.PLOTLYENV || {};window.PLOTLYENV.BASE_URL=\"https://plot.ly\";Plotly.newPlot(\"eca4f411-906e-4c2b-a32c-df1b95529eb5\", [{\"type\": \"bar\", \"x\": [\"2006 - 2007\", \"2007 - 2008\", \"2008 - 2009\", \"2009 - 2010\", \"2010 - 2011\", \"2011 - 2012\", \"2012 - 2013\", \"2013 - 2014\", \"2014 - 2015\", \"2015 - 2016\"], \"y\": [50841, 49494, 50320, 49153, 49013, 36466, 43881, 47127, 45005, 46389], \"name\": \"sum\"}, {\"type\": \"scatter\", \"x\": [\"2006 - 2007\", \"2007 - 2008\", \"2008 - 2009\", \"2009 - 2010\", \"2010 - 2011\", \"2011 - 2012\", \"2012 - 2013\", \"2013 - 2014\", \"2014 - 2015\", \"2015 - 2016\"], \"y\": [0.7519523161568952, 0.7556335877862596, 0.769948741488792, 0.7584871304240479, 0.7641922759093814, 0.752512433190945, 0.7516959024256544, 0.7565740889388345, 0.7484492192047363, 0.7560752994865944], \"name\": \"mean\", \"yaxis\": \"y2\"}], {\"title\": \"Shots per season\", \"xaxis\": {\"title\": \"Season\"}, \"yaxis\": {\"title\": \"Sum of shots\", \"rangemode\": \"tozero\"}, \"yaxis2\": {\"title\": \"Mean of shots made\", \"overlaying\": \"y\", \"side\": \"right\", \"range\": [0, 1]}}, {\"showLink\": true, \"linkText\": \"Export to plot.ly\"})});</script>"
      ]
     },
     "metadata": {},
     "output_type": "execute_result"
    }
   ],
   "source": [
    "fig = bar_scatter(season_shots, \"Shots per season\")\n",
    "pyoff.iplot(fig)"
   ]
  },
  {
   "cell_type": "markdown",
   "metadata": {},
   "source": [
    "# Analyse the shots of the 5 most frequent players per season"
   ]
  },
  {
   "cell_type": "code",
   "execution_count": 11,
   "metadata": {},
   "outputs": [
    {
     "data": {
      "text/plain": [
       "LeBron James     8001\n",
       "Dwight Howard    7728\n",
       "Kevin Durant     6030\n",
       "Kobe Bryant      5594\n",
       "Dwyane Wade      5594\n",
       "Name: player, dtype: int64"
      ]
     },
     "execution_count": 11,
     "metadata": {},
     "output_type": "execute_result"
    }
   ],
   "source": [
    "# Get the top 10 players\n",
    "top5 = df.player.value_counts().head(5)\n",
    "top5"
   ]
  },
  {
   "cell_type": "code",
   "execution_count": 12,
   "metadata": {
    "scrolled": true
   },
   "outputs": [
    {
     "data": {
      "text/html": [
       "<div>\n",
       "<style scoped>\n",
       "    .dataframe tbody tr th:only-of-type {\n",
       "        vertical-align: middle;\n",
       "    }\n",
       "\n",
       "    .dataframe tbody tr th {\n",
       "        vertical-align: top;\n",
       "    }\n",
       "\n",
       "    .dataframe thead th {\n",
       "        text-align: right;\n",
       "    }\n",
       "</style>\n",
       "<table border=\"1\" class=\"dataframe\">\n",
       "  <thead>\n",
       "    <tr style=\"text-align: right;\">\n",
       "      <th></th>\n",
       "      <th>player</th>\n",
       "      <th>mean</th>\n",
       "      <th>sum</th>\n",
       "    </tr>\n",
       "    <tr>\n",
       "      <th>season</th>\n",
       "      <th></th>\n",
       "      <th></th>\n",
       "      <th></th>\n",
       "    </tr>\n",
       "  </thead>\n",
       "  <tbody>\n",
       "    <tr>\n",
       "      <th>2006 - 2007</th>\n",
       "      <td>Dwight Howard</td>\n",
       "      <td>0.576102</td>\n",
       "      <td>405</td>\n",
       "    </tr>\n",
       "    <tr>\n",
       "      <th>2007 - 2008</th>\n",
       "      <td>Dwight Howard</td>\n",
       "      <td>0.585961</td>\n",
       "      <td>576</td>\n",
       "    </tr>\n",
       "    <tr>\n",
       "      <th>2008 - 2009</th>\n",
       "      <td>Dwight Howard</td>\n",
       "      <td>0.601113</td>\n",
       "      <td>648</td>\n",
       "    </tr>\n",
       "    <tr>\n",
       "      <th>2009 - 2010</th>\n",
       "      <td>Dwight Howard</td>\n",
       "      <td>0.580348</td>\n",
       "      <td>567</td>\n",
       "    </tr>\n",
       "    <tr>\n",
       "      <th>2010 - 2011</th>\n",
       "      <td>Dwight Howard</td>\n",
       "      <td>0.603380</td>\n",
       "      <td>607</td>\n",
       "    </tr>\n",
       "    <tr>\n",
       "      <th>2011 - 2012</th>\n",
       "      <td>Dwight Howard</td>\n",
       "      <td>0.491289</td>\n",
       "      <td>282</td>\n",
       "    </tr>\n",
       "    <tr>\n",
       "      <th>2012 - 2013</th>\n",
       "      <td>Dwight Howard</td>\n",
       "      <td>0.490092</td>\n",
       "      <td>371</td>\n",
       "    </tr>\n",
       "    <tr>\n",
       "      <th>2013 - 2014</th>\n",
       "      <td>Dwight Howard</td>\n",
       "      <td>0.554131</td>\n",
       "      <td>389</td>\n",
       "    </tr>\n",
       "    <tr>\n",
       "      <th>2014 - 2015</th>\n",
       "      <td>Dwight Howard</td>\n",
       "      <td>0.483945</td>\n",
       "      <td>211</td>\n",
       "    </tr>\n",
       "    <tr>\n",
       "      <th>2015 - 2016</th>\n",
       "      <td>Dwight Howard</td>\n",
       "      <td>0.480469</td>\n",
       "      <td>246</td>\n",
       "    </tr>\n",
       "  </tbody>\n",
       "</table>\n",
       "</div>"
      ],
      "text/plain": [
       "                    player      mean  sum\n",
       "season                                   \n",
       "2006 - 2007  Dwight Howard  0.576102  405\n",
       "2007 - 2008  Dwight Howard  0.585961  576\n",
       "2008 - 2009  Dwight Howard  0.601113  648\n",
       "2009 - 2010  Dwight Howard  0.580348  567\n",
       "2010 - 2011  Dwight Howard  0.603380  607\n",
       "2011 - 2012  Dwight Howard  0.491289  282\n",
       "2012 - 2013  Dwight Howard  0.490092  371\n",
       "2013 - 2014  Dwight Howard  0.554131  389\n",
       "2014 - 2015  Dwight Howard  0.483945  211\n",
       "2015 - 2016  Dwight Howard  0.480469  246"
      ]
     },
     "execution_count": 12,
     "metadata": {},
     "output_type": "execute_result"
    }
   ],
   "source": [
    "# Get the mean and sum of shots per player per season\n",
    "top5_stats = df[df.player.isin(top5.index)].groupby([\"player\", \"season\"])[\"shot_made\"].agg([\"mean\", \"sum\"]).reset_index(level=\"player\")\n",
    "top5_stats.head(10)"
   ]
  },
  {
   "cell_type": "code",
   "execution_count": 13,
   "metadata": {},
   "outputs": [],
   "source": [
    "# Create a dictionary of dataframes for each player\n",
    "df_dict = {}\n",
    "for i in top5.index:\n",
    "    df_dict[i] = top5_stats[top5_stats.player == i].drop(columns=[\"player\"])"
   ]
  },
  {
   "cell_type": "code",
   "execution_count": 14,
   "metadata": {
    "scrolled": false
   },
   "outputs": [
    {
     "data": {
      "text/html": [
       "<div id=\"856b0cb7-81f9-4bb7-9cd0-c13372a566dc\" style=\"height: 525px; width: 100%;\" class=\"plotly-graph-div\"></div><script type=\"text/javascript\">require([\"plotly\"], function(Plotly) { window.PLOTLYENV=window.PLOTLYENV || {};window.PLOTLYENV.BASE_URL=\"https://plot.ly\";Plotly.newPlot(\"856b0cb7-81f9-4bb7-9cd0-c13372a566dc\", [{\"type\": \"bar\", \"x\": [\"2006 - 2007\", \"2007 - 2008\", \"2008 - 2009\", \"2009 - 2010\", \"2010 - 2011\", \"2011 - 2012\", \"2012 - 2013\", \"2013 - 2014\", \"2014 - 2015\", \"2015 - 2016\"], \"y\": [639, 664, 745, 681, 631, 560, 538, 568, 497, 434], \"name\": \"sum\"}, {\"type\": \"scatter\", \"x\": [\"2006 - 2007\", \"2007 - 2008\", \"2008 - 2009\", \"2009 - 2010\", \"2010 - 2011\", \"2011 - 2012\", \"2012 - 2013\", \"2013 - 2014\", \"2014 - 2015\", \"2015 - 2016\"], \"y\": [0.710789766407119, 0.7178378378378378, 0.7736240913811008, 0.7625979843225084, 0.7611580217129071, 0.7619047619047619, 0.7588152327221439, 0.7624161073825504, 0.7151079136690648, 0.7138157894736842], \"name\": \"mean\", \"yaxis\": \"y2\"}], {\"title\": \"LeBron James\", \"xaxis\": {\"title\": \"Season\"}, \"yaxis\": {\"title\": \"Sum of shots\", \"rangemode\": \"tozero\"}, \"yaxis2\": {\"title\": \"Mean of shots made\", \"overlaying\": \"y\", \"side\": \"right\", \"range\": [0, 1]}}, {\"showLink\": true, \"linkText\": \"Export to plot.ly\"})});</script>"
      ]
     },
     "metadata": {},
     "output_type": "execute_result"
    },
    {
     "data": {
      "text/html": [
       "<div id=\"a4ca5f3e-8f3b-4d57-8131-95fe986df1e1\" style=\"height: 525px; width: 100%;\" class=\"plotly-graph-div\"></div><script type=\"text/javascript\">require([\"plotly\"], function(Plotly) { window.PLOTLYENV=window.PLOTLYENV || {};window.PLOTLYENV.BASE_URL=\"https://plot.ly\";Plotly.newPlot(\"a4ca5f3e-8f3b-4d57-8131-95fe986df1e1\", [{\"type\": \"bar\", \"x\": [\"2006 - 2007\", \"2007 - 2008\", \"2008 - 2009\", \"2009 - 2010\", \"2010 - 2011\", \"2011 - 2012\", \"2012 - 2013\", \"2013 - 2014\", \"2014 - 2015\", \"2015 - 2016\"], \"y\": [405, 576, 648, 567, 607, 282, 371, 389, 211, 246], \"name\": \"sum\"}, {\"type\": \"scatter\", \"x\": [\"2006 - 2007\", \"2007 - 2008\", \"2008 - 2009\", \"2009 - 2010\", \"2010 - 2011\", \"2011 - 2012\", \"2012 - 2013\", \"2013 - 2014\", \"2014 - 2015\", \"2015 - 2016\"], \"y\": [0.5761024182076814, 0.5859613428280773, 0.601113172541744, 0.5803480040941658, 0.6033797216699801, 0.4912891986062718, 0.4900924702774108, 0.5541310541310541, 0.48394495412844035, 0.48046875], \"name\": \"mean\", \"yaxis\": \"y2\"}], {\"title\": \"Dwight Howard\", \"xaxis\": {\"title\": \"Season\"}, \"yaxis\": {\"title\": \"Sum of shots\", \"rangemode\": \"tozero\"}, \"yaxis2\": {\"title\": \"Mean of shots made\", \"overlaying\": \"y\", \"side\": \"right\", \"range\": [0, 1]}}, {\"showLink\": true, \"linkText\": \"Export to plot.ly\"})});</script>"
      ]
     },
     "metadata": {},
     "output_type": "execute_result"
    },
    {
     "data": {
      "text/html": [
       "<div id=\"847b1fa8-1e9e-491f-a565-135cf9eded6a\" style=\"height: 525px; width: 100%;\" class=\"plotly-graph-div\"></div><script type=\"text/javascript\">require([\"plotly\"], function(Plotly) { window.PLOTLYENV=window.PLOTLYENV || {};window.PLOTLYENV.BASE_URL=\"https://plot.ly\";Plotly.newPlot(\"847b1fa8-1e9e-491f-a565-135cf9eded6a\", [{\"type\": \"bar\", \"x\": [\"2007 - 2008\", \"2008 - 2009\", \"2009 - 2010\", \"2010 - 2011\", \"2011 - 2012\", \"2012 - 2013\", \"2013 - 2014\", \"2014 - 2015\", \"2015 - 2016\"], \"y\": [391, 452, 810, 742, 569, 771, 835, 146, 577], \"name\": \"sum\"}, {\"type\": \"scatter\", \"x\": [\"2007 - 2008\", \"2008 - 2009\", \"2009 - 2010\", \"2010 - 2011\", \"2011 - 2012\", \"2012 - 2013\", \"2013 - 2014\", \"2014 - 2015\", \"2015 - 2016\"], \"y\": [0.8727678571428571, 0.8625954198473282, 0.8980044345898004, 0.8729411764705882, 0.8595166163141994, 0.8954703832752613, 0.862603305785124, 0.8538011695906432, 0.8959627329192547], \"name\": \"mean\", \"yaxis\": \"y2\"}], {\"title\": \"Kevin Durant\", \"xaxis\": {\"title\": \"Season\"}, \"yaxis\": {\"title\": \"Sum of shots\", \"rangemode\": \"tozero\"}, \"yaxis2\": {\"title\": \"Mean of shots made\", \"overlaying\": \"y\", \"side\": \"right\", \"range\": [0, 1]}}, {\"showLink\": true, \"linkText\": \"Export to plot.ly\"})});</script>"
      ]
     },
     "metadata": {},
     "output_type": "execute_result"
    },
    {
     "data": {
      "text/html": [
       "<div id=\"cee084f2-6ab4-4209-97fd-d66f8c7b6f40\" style=\"height: 525px; width: 100%;\" class=\"plotly-graph-div\"></div><script type=\"text/javascript\">require([\"plotly\"], function(Plotly) { window.PLOTLYENV=window.PLOTLYENV || {};window.PLOTLYENV.BASE_URL=\"https://plot.ly\";Plotly.newPlot(\"cee084f2-6ab4-4209-97fd-d66f8c7b6f40\", [{\"type\": \"bar\", \"x\": [\"2006 - 2007\", \"2007 - 2008\", \"2008 - 2009\", \"2009 - 2010\", \"2010 - 2011\", \"2011 - 2012\", \"2012 - 2013\", \"2013 - 2014\", \"2014 - 2015\", \"2015 - 2016\"], \"y\": [703, 776, 656, 591, 540, 467, 523, 18, 196, 232], \"name\": \"sum\"}, {\"type\": \"scatter\", \"x\": [\"2006 - 2007\", \"2007 - 2008\", \"2008 - 2009\", \"2009 - 2010\", \"2010 - 2011\", \"2011 - 2012\", \"2012 - 2013\", \"2013 - 2014\", \"2014 - 2015\", \"2015 - 2016\"], \"y\": [0.8711276332094176, 0.8335123523093448, 0.8642951251646904, 0.8208333333333333, 0.8282208588957055, 0.8429602888086642, 0.8328025477707006, 0.8571428571428571, 0.8132780082987552, 0.8256227758007118], \"name\": \"mean\", \"yaxis\": \"y2\"}], {\"title\": \"Kobe Bryant\", \"xaxis\": {\"title\": \"Season\"}, \"yaxis\": {\"title\": \"Sum of shots\", \"rangemode\": \"tozero\"}, \"yaxis2\": {\"title\": \"Mean of shots made\", \"overlaying\": \"y\", \"side\": \"right\", \"range\": [0, 1]}}, {\"showLink\": true, \"linkText\": \"Export to plot.ly\"})});</script>"
      ]
     },
     "metadata": {},
     "output_type": "execute_result"
    },
    {
     "data": {
      "text/html": [
       "<div id=\"f917c819-f1b6-4d69-adf8-2ad074372eb4\" style=\"height: 525px; width: 100%;\" class=\"plotly-graph-div\"></div><script type=\"text/javascript\">require([\"plotly\"], function(Plotly) { window.PLOTLYENV=window.PLOTLYENV || {};window.PLOTLYENV.BASE_URL=\"https://plot.ly\";Plotly.newPlot(\"f917c819-f1b6-4d69-adf8-2ad074372eb4\", [{\"type\": \"bar\", \"x\": [\"2006 - 2007\", \"2007 - 2008\", \"2008 - 2009\", \"2009 - 2010\", \"2010 - 2011\", \"2011 - 2012\", \"2012 - 2013\", \"2013 - 2014\", \"2014 - 2015\", \"2015 - 2016\"], \"y\": [438, 356, 644, 565, 635, 358, 366, 258, 284, 372], \"name\": \"sum\"}, {\"type\": \"scatter\", \"x\": [\"2006 - 2007\", \"2007 - 2008\", \"2008 - 2009\", \"2009 - 2010\", \"2010 - 2011\", \"2011 - 2012\", \"2012 - 2013\", \"2013 - 2014\", \"2014 - 2015\", \"2015 - 2016\"], \"y\": [0.7963636363636364, 0.7558386411889597, 0.7703349282296651, 0.7553475935828877, 0.7623049219687875, 0.7698924731182796, 0.7276341948310139, 0.7413793103448276, 0.7675675675675676, 0.7914893617021277], \"name\": \"mean\", \"yaxis\": \"y2\"}], {\"title\": \"Dwyane Wade\", \"xaxis\": {\"title\": \"Season\"}, \"yaxis\": {\"title\": \"Sum of shots\", \"rangemode\": \"tozero\"}, \"yaxis2\": {\"title\": \"Mean of shots made\", \"overlaying\": \"y\", \"side\": \"right\", \"range\": [0, 1]}}, {\"showLink\": true, \"linkText\": \"Export to plot.ly\"})});</script>"
      ]
     },
     "metadata": {},
     "output_type": "execute_result"
    }
   ],
   "source": [
    "# For each player create a figure and show it\n",
    "for d in df_dict:\n",
    "    fig = bar_scatter(df_dict.get(d), d)\n",
    "    pyoff.iplot(fig)"
   ]
  },
  {
   "cell_type": "code",
   "execution_count": null,
   "metadata": {},
   "outputs": [],
   "source": []
  }
 ],
 "metadata": {
  "kernelspec": {
   "display_name": "Python 3",
   "language": "python",
   "name": "python3"
  },
  "language_info": {
   "codemirror_mode": {
    "name": "ipython",
    "version": 3
   },
   "file_extension": ".py",
   "mimetype": "text/x-python",
   "name": "python",
   "nbconvert_exporter": "python",
   "pygments_lexer": "ipython3",
   "version": "3.6.5"
  }
 },
 "nbformat": 4,
 "nbformat_minor": 1
}
